{
 "cells": [
  {
   "cell_type": "code",
   "execution_count": 1,
   "id": "ca4235b4",
   "metadata": {},
   "outputs": [
    {
     "name": "stdout",
     "output_type": "stream",
     "text": [
      "Requirement already satisfied: yfinance in c:\\users\\islin\\miniconda3\\lib\\site-packages (0.2.35)\n",
      "Requirement already satisfied: pandas>=1.3.0 in c:\\users\\islin\\miniconda3\\lib\\site-packages (from yfinance) (2.1.3)\n",
      "Requirement already satisfied: numpy>=1.16.5 in c:\\users\\islin\\miniconda3\\lib\\site-packages (from yfinance) (1.26.2)\n",
      "Requirement already satisfied: requests>=2.31 in c:\\users\\islin\\miniconda3\\lib\\site-packages (from yfinance) (2.31.0)\n",
      "Requirement already satisfied: multitasking>=0.0.7 in c:\\users\\islin\\miniconda3\\lib\\site-packages (from yfinance) (0.0.11)\n",
      "Requirement already satisfied: lxml>=4.9.1 in c:\\users\\islin\\miniconda3\\lib\\site-packages (from yfinance) (5.1.0)\n",
      "Requirement already satisfied: appdirs>=1.4.4 in c:\\users\\islin\\miniconda3\\lib\\site-packages (from yfinance) (1.4.4)\n",
      "Requirement already satisfied: pytz>=2022.5 in c:\\users\\islin\\miniconda3\\lib\\site-packages (from yfinance) (2023.3.post1)\n",
      "Requirement already satisfied: frozendict>=2.3.4 in c:\\users\\islin\\miniconda3\\lib\\site-packages (from yfinance) (2.4.0)\n",
      "Requirement already satisfied: peewee>=3.16.2 in c:\\users\\islin\\miniconda3\\lib\\site-packages (from yfinance) (3.17.0)\n",
      "Requirement already satisfied: beautifulsoup4>=4.11.1 in c:\\users\\islin\\miniconda3\\lib\\site-packages (from yfinance) (4.12.2)\n",
      "Requirement already satisfied: html5lib>=1.1 in c:\\users\\islin\\miniconda3\\lib\\site-packages (from yfinance) (1.1)\n",
      "Requirement already satisfied: soupsieve>1.2 in c:\\users\\islin\\miniconda3\\lib\\site-packages (from beautifulsoup4>=4.11.1->yfinance) (2.5)\n",
      "Requirement already satisfied: six>=1.9 in c:\\users\\islin\\miniconda3\\lib\\site-packages (from html5lib>=1.1->yfinance) (1.16.0)\n",
      "Requirement already satisfied: webencodings in c:\\users\\islin\\miniconda3\\lib\\site-packages (from html5lib>=1.1->yfinance) (0.5.1)\n",
      "Requirement already satisfied: python-dateutil>=2.8.2 in c:\\users\\islin\\miniconda3\\lib\\site-packages (from pandas>=1.3.0->yfinance) (2.8.2)\n",
      "Requirement already satisfied: tzdata>=2022.1 in c:\\users\\islin\\miniconda3\\lib\\site-packages (from pandas>=1.3.0->yfinance) (2023.3)\n",
      "Requirement already satisfied: charset-normalizer<4,>=2 in c:\\users\\islin\\miniconda3\\lib\\site-packages (from requests>=2.31->yfinance) (2.0.4)\n",
      "Requirement already satisfied: idna<4,>=2.5 in c:\\users\\islin\\miniconda3\\lib\\site-packages (from requests>=2.31->yfinance) (3.4)\n",
      "Requirement already satisfied: urllib3<3,>=1.21.1 in c:\\users\\islin\\miniconda3\\lib\\site-packages (from requests>=2.31->yfinance) (1.26.18)\n",
      "Requirement already satisfied: certifi>=2017.4.17 in c:\\users\\islin\\miniconda3\\lib\\site-packages (from requests>=2.31->yfinance) (2023.7.22)\n",
      "Note: you may need to restart the kernel to use updated packages.\n"
     ]
    }
   ],
   "source": [
    "pip install yfinance"
   ]
  },
  {
   "cell_type": "code",
   "execution_count": 2,
   "id": "736f5b93",
   "metadata": {},
   "outputs": [
    {
     "name": "stdout",
     "output_type": "stream",
     "text": [
      "Requirement already satisfied: matplotlib in c:\\users\\islin\\miniconda3\\lib\\site-packages (3.8.2)\n",
      "Requirement already satisfied: contourpy>=1.0.1 in c:\\users\\islin\\miniconda3\\lib\\site-packages (from matplotlib) (1.2.0)\n",
      "Requirement already satisfied: cycler>=0.10 in c:\\users\\islin\\miniconda3\\lib\\site-packages (from matplotlib) (0.12.1)\n",
      "Requirement already satisfied: fonttools>=4.22.0 in c:\\users\\islin\\miniconda3\\lib\\site-packages (from matplotlib) (4.47.2)\n",
      "Requirement already satisfied: kiwisolver>=1.3.1 in c:\\users\\islin\\miniconda3\\lib\\site-packages (from matplotlib) (1.4.5)\n",
      "Requirement already satisfied: numpy<2,>=1.21 in c:\\users\\islin\\miniconda3\\lib\\site-packages (from matplotlib) (1.26.2)\n",
      "Requirement already satisfied: packaging>=20.0 in c:\\users\\islin\\miniconda3\\lib\\site-packages (from matplotlib) (23.1)\n",
      "Requirement already satisfied: pillow>=8 in c:\\users\\islin\\miniconda3\\lib\\site-packages (from matplotlib) (10.2.0)\n",
      "Requirement already satisfied: pyparsing>=2.3.1 in c:\\users\\islin\\miniconda3\\lib\\site-packages (from matplotlib) (3.1.1)\n",
      "Requirement already satisfied: python-dateutil>=2.7 in c:\\users\\islin\\miniconda3\\lib\\site-packages (from matplotlib) (2.8.2)\n",
      "Requirement already satisfied: six>=1.5 in c:\\users\\islin\\miniconda3\\lib\\site-packages (from python-dateutil>=2.7->matplotlib) (1.16.0)\n",
      "Note: you may need to restart the kernel to use updated packages.\n"
     ]
    }
   ],
   "source": [
    "pip install matplotlib"
   ]
  },
  {
   "cell_type": "code",
   "execution_count": 3,
   "id": "76aac7a5",
   "metadata": {},
   "outputs": [
    {
     "name": "stdout",
     "output_type": "stream",
     "text": [
      "Requirement already satisfied: plotly in c:\\users\\islin\\miniconda3\\lib\\site-packages (5.18.0)\n",
      "Requirement already satisfied: tenacity>=6.2.0 in c:\\users\\islin\\miniconda3\\lib\\site-packages (from plotly) (8.2.3)\n",
      "Requirement already satisfied: packaging in c:\\users\\islin\\miniconda3\\lib\\site-packages (from plotly) (23.1)\n",
      "Note: you may need to restart the kernel to use updated packages.\n"
     ]
    }
   ],
   "source": [
    "pip install plotly"
   ]
  },
  {
   "cell_type": "code",
   "execution_count": 4,
   "id": "44889d76",
   "metadata": {},
   "outputs": [],
   "source": [
    "from os import name\n",
    "import yfinance as yf\n",
    "import pandas as pd\n",
    "import numpy as np\n",
    "import matplotlib.pyplot as plt\n",
    "import datetime as dt\n",
    "import math\n",
    "import plotly.graph_objects as go\n",
    "import scipy.optimize as sc"
   ]
  },
  {
   "cell_type": "code",
   "execution_count": 5,
   "id": "b65d53b6",
   "metadata": {},
   "outputs": [
    {
     "name": "stderr",
     "output_type": "stream",
     "text": [
      "[*********************100%%**********************]  1 of 1 completed\n",
      "[*********************100%%**********************]  1 of 1 completed\n",
      "[*********************100%%**********************]  1 of 1 completed\n"
     ]
    }
   ],
   "source": [
    "assets = [\"AMD\", \"AMZN\", \"JPM\"]\n",
    "pf_data = pd.DataFrame()\n",
    "for x in assets: \n",
    "    data = yf.download(x, start = '2020-01-01', end = '2024-01-01')[\"Close\"]\n",
    "    pf_data[x] = data"
   ]
  },
  {
   "cell_type": "code",
   "execution_count": 6,
   "id": "c0691f7b",
   "metadata": {},
   "outputs": [
    {
     "name": "stdout",
     "output_type": "stream",
     "text": [
      "                  AMD       AMZN         JPM\n",
      "Date                                        \n",
      "2020-01-02  49.099998  94.900497  141.089996\n",
      "2020-01-03  48.599998  93.748497  138.339996\n",
      "2020-01-06  48.389999  95.143997  138.229996\n",
      "2020-01-07  48.250000  95.343002  135.880005\n",
      "2020-01-08  47.830002  94.598503  136.940002\n"
     ]
    }
   ],
   "source": [
    "print(pf_data.head())"
   ]
  },
  {
   "cell_type": "code",
   "execution_count": 7,
   "id": "8b9e2e8a",
   "metadata": {},
   "outputs": [
    {
     "data": {
      "text/html": [
       "<div>\n",
       "<style scoped>\n",
       "    .dataframe tbody tr th:only-of-type {\n",
       "        vertical-align: middle;\n",
       "    }\n",
       "\n",
       "    .dataframe tbody tr th {\n",
       "        vertical-align: top;\n",
       "    }\n",
       "\n",
       "    .dataframe thead th {\n",
       "        text-align: right;\n",
       "    }\n",
       "</style>\n",
       "<table border=\"1\" class=\"dataframe\">\n",
       "  <thead>\n",
       "    <tr style=\"text-align: right;\">\n",
       "      <th></th>\n",
       "      <th>AMD</th>\n",
       "      <th>AMZN</th>\n",
       "      <th>JPM</th>\n",
       "    </tr>\n",
       "    <tr>\n",
       "      <th>Date</th>\n",
       "      <th></th>\n",
       "      <th></th>\n",
       "      <th></th>\n",
       "    </tr>\n",
       "  </thead>\n",
       "  <tbody>\n",
       "    <tr>\n",
       "      <th>2020-01-03</th>\n",
       "      <td>-0.010236</td>\n",
       "      <td>-0.012213</td>\n",
       "      <td>-0.019684</td>\n",
       "    </tr>\n",
       "    <tr>\n",
       "      <th>2020-01-06</th>\n",
       "      <td>-0.004330</td>\n",
       "      <td>0.014776</td>\n",
       "      <td>-0.000795</td>\n",
       "    </tr>\n",
       "    <tr>\n",
       "      <th>2020-01-07</th>\n",
       "      <td>-0.002897</td>\n",
       "      <td>0.002089</td>\n",
       "      <td>-0.017147</td>\n",
       "    </tr>\n",
       "    <tr>\n",
       "      <th>2020-01-08</th>\n",
       "      <td>-0.008743</td>\n",
       "      <td>-0.007839</td>\n",
       "      <td>0.007771</td>\n",
       "    </tr>\n",
       "    <tr>\n",
       "      <th>2020-01-09</th>\n",
       "      <td>0.023555</td>\n",
       "      <td>0.004788</td>\n",
       "      <td>0.003645</td>\n",
       "    </tr>\n",
       "  </tbody>\n",
       "</table>\n",
       "</div>"
      ],
      "text/plain": [
       "                 AMD      AMZN       JPM\n",
       "Date                                    \n",
       "2020-01-03 -0.010236 -0.012213 -0.019684\n",
       "2020-01-06 -0.004330  0.014776 -0.000795\n",
       "2020-01-07 -0.002897  0.002089 -0.017147\n",
       "2020-01-08 -0.008743 -0.007839  0.007771\n",
       "2020-01-09  0.023555  0.004788  0.003645"
      ]
     },
     "execution_count": 7,
     "metadata": {},
     "output_type": "execute_result"
    }
   ],
   "source": [
    "log_returns = np.log(pf_data/pf_data.shift(1)).dropna()\n",
    "log_returns.head()"
   ]
  },
  {
   "cell_type": "code",
   "execution_count": 8,
   "id": "41179120",
   "metadata": {},
   "outputs": [
    {
     "name": "stdout",
     "output_type": "stream",
     "text": [
      "Average Price:\n",
      "AMD      90.119970\n",
      "AMZN    137.216247\n",
      "JPM     133.535447\n",
      "dtype: float64\n",
      "\n",
      "Average Return:\n",
      "AMD     0.001094\n",
      "AMZN    0.000468\n",
      "JPM     0.000186\n",
      "dtype: float64\n"
     ]
    }
   ],
   "source": [
    "average_price = pf_data.mean()\n",
    "print(\"Average Price:\")\n",
    "print (average_price)\n",
    "\n",
    "average_return = log_returns.mean()\n",
    "print(\"\\nAverage Return:\")\n",
    "print (average_return)"
   ]
  },
  {
   "cell_type": "code",
   "execution_count": 9,
   "id": "65c5d89c",
   "metadata": {},
   "outputs": [
    {
     "name": "stdout",
     "output_type": "stream",
     "text": [
      "Standard Deviation of Prices \n",
      "AMD     24.981102\n",
      "AMZN    27.468805\n",
      "JPM     22.376003\n",
      "dtype: float64\n",
      "\n",
      "Standard Deviation of Returns\n",
      "AMD     0.033641\n",
      "AMZN    0.023735\n",
      "JPM     0.021684\n",
      "dtype: float64\n"
     ]
    }
   ],
   "source": [
    "price_std_deviation = pf_data.std()\n",
    "print (\"Standard Deviation of Prices \")\n",
    "print (price_std_deviation)\n",
    "\n",
    "return_std_deviation = log_returns.std()\n",
    "print (\"\\nStandard Deviation of Returns\")\n",
    "print (return_std_deviation)"
   ]
  },
  {
   "cell_type": "code",
   "execution_count": 10,
   "id": "1ba196fd",
   "metadata": {},
   "outputs": [
    {
     "name": "stdout",
     "output_type": "stream",
     "text": [
      "Correlation Matrix of Returns\n",
      "           AMD      AMZN       JPM\n",
      "AMD   1.000000  0.587198  0.330576\n",
      "AMZN  0.587198  1.000000  0.272394\n",
      "JPM   0.330576  0.272394  1.000000\n"
     ]
    }
   ],
   "source": [
    "correlation_matrix = log_returns.corr()\n",
    "print(\"Correlation Matrix of Returns\")\n",
    "print (correlation_matrix)"
   ]
  },
  {
   "cell_type": "code",
   "execution_count": 11,
   "id": "cc45acae",
   "metadata": {},
   "outputs": [
    {
     "data": {
      "image/png": "[encoded data removed]",
      "text/plain": [
       "<Figure size 640x480 with 1 Axes>"
      ]
     },
     "metadata": {},
     "output_type": "display_data"
    }
   ],
   "source": [
    "pf_data.plot(title = \"Price Evolution\")\n",
    "plt.xlabel(\"Date\")\n",
    "plt.ylabel(\"Price\")\n",
    "plt.show()"
   ]
  },
  {
   "cell_type": "code",
   "execution_count": 12,
   "id": "d8d4121c",
   "metadata": {},
   "outputs": [
    {
     "data": {
      "image/png": "[encoded data removed]",
      "text/plain": [
       "<Figure size 640x480 with 1 Axes>"
      ]
     },
     "metadata": {},
     "output_type": "display_data"
    }
   ],
   "source": [
    "cumulative_returns = (1 + log_returns).cumprod() - 1\n",
    "cumulative_returns.plot(title = \"Cumulative Returns\")\n",
    "plt.xlabel (\"Date\")\n",
    "plt.ylabel(\"Return\")\n",
    "plt.show()"
   ]
  },
  {
   "cell_type": "code",
   "execution_count": 13,
   "id": "3eb7ceed",
   "metadata": {},
   "outputs": [
    {
     "data": {
      "text/plain": [
       "AMD     0.001094\n",
       "AMZN    0.000468\n",
       "JPM     0.000186\n",
       "dtype: float64"
      ]
     },
     "execution_count": 13,
     "metadata": {},
     "output_type": "execute_result"
    }
   ],
   "source": [
    "expected_returns = log_returns.mean()\n",
    "expected_returns"
   ]
  },
  {
   "cell_type": "code",
   "execution_count": 14,
   "id": "da3310fe",
   "metadata": {},
   "outputs": [
    {
     "data": {
      "text/html": [
       "<div>\n",
       "<style scoped>\n",
       "    .dataframe tbody tr th:only-of-type {\n",
       "        vertical-align: middle;\n",
       "    }\n",
       "\n",
       "    .dataframe tbody tr th {\n",
       "        vertical-align: top;\n",
       "    }\n",
       "\n",
       "    .dataframe thead th {\n",
       "        text-align: right;\n",
       "    }\n",
       "</style>\n",
       "<table border=\"1\" class=\"dataframe\">\n",
       "  <thead>\n",
       "    <tr style=\"text-align: right;\">\n",
       "      <th></th>\n",
       "      <th>AMD</th>\n",
       "      <th>AMZN</th>\n",
       "      <th>JPM</th>\n",
       "    </tr>\n",
       "  </thead>\n",
       "  <tbody>\n",
       "    <tr>\n",
       "      <th>AMD</th>\n",
       "      <td>0.001132</td>\n",
       "      <td>0.000469</td>\n",
       "      <td>0.000241</td>\n",
       "    </tr>\n",
       "    <tr>\n",
       "      <th>AMZN</th>\n",
       "      <td>0.000469</td>\n",
       "      <td>0.000563</td>\n",
       "      <td>0.000140</td>\n",
       "    </tr>\n",
       "    <tr>\n",
       "      <th>JPM</th>\n",
       "      <td>0.000241</td>\n",
       "      <td>0.000140</td>\n",
       "      <td>0.000470</td>\n",
       "    </tr>\n",
       "  </tbody>\n",
       "</table>\n",
       "</div>"
      ],
      "text/plain": [
       "           AMD      AMZN       JPM\n",
       "AMD   0.001132  0.000469  0.000241\n",
       "AMZN  0.000469  0.000563  0.000140\n",
       "JPM   0.000241  0.000140  0.000470"
      ]
     },
     "execution_count": 14,
     "metadata": {},
     "output_type": "execute_result"
    }
   ],
   "source": [
    "covariance_matrix = log_returns.cov()\n",
    "covariance_matrix"
   ]
  },
  {
   "cell_type": "code",
   "execution_count": 15,
   "id": "afb68857",
   "metadata": {},
   "outputs": [],
   "source": [
    "def portfolioPerformance(weights:np.array, expected_returns:np.array, covariance_matrix:np.matrix):\n",
    "    returns = np.sum(expected_returns * weights) * 252\n",
    "    std = np.sqrt(\n",
    "        np.dot(weights.T, np.dot(covariance_matrix, weights))\n",
    "    ) * np.sqrt(252)\n",
    "    return returns, std"
   ]
  },
  {
   "cell_type": "code",
   "execution_count": 16,
   "id": "795ce8b6",
   "metadata": {},
   "outputs": [
    {
     "name": "stdout",
     "output_type": "stream",
     "text": [
      "0.1458544078340789 0.3278903639453347\n"
     ]
    }
   ],
   "source": [
    "w_example = np.array([0.33, 0.33, 0.34])\n",
    "eRet_example, vol_example = portfolioPerformance(weights=w_example, expected_returns = expected_returns, covariance_matrix=covariance_matrix)\n",
    "print(eRet_example, vol_example)"
   ]
  },
  {
   "cell_type": "code",
   "execution_count": 17,
   "id": "a322ec53",
   "metadata": {},
   "outputs": [],
   "source": [
    "def negativeSR(weights, expected_returns, covariance_matrix, rf:float = 0):\n",
    "    pReturns, pStd = portfolioPerformance(weights, expected_returns, covariance_matrix)\n",
    "    return - (pReturns - rf) / pStd"
   ]
  },
  {
   "cell_type": "code",
   "execution_count": 18,
   "id": "b6ad649c",
   "metadata": {},
   "outputs": [
    {
     "name": "stdout",
     "output_type": "stream",
     "text": [
      "-0.4448267587954963\n"
     ]
    }
   ],
   "source": [
    "sr_negative_example = negativeSR(weights=w_example, expected_returns=expected_returns, covariance_matrix=covariance_matrix)\n",
    "print(sr_negative_example)"
   ]
  },
  {
   "cell_type": "code",
   "execution_count": 19,
   "id": "2e58e7b4",
   "metadata": {},
   "outputs": [],
   "source": [
    "def portfolioReturn(weights, expected_returns, covariance_matrix):\n",
    "    return portfolioPerformance(weights, expected_returns, covariance_matrix)[0]\n",
    "\n",
    "def portfolioVariance(weights, expected_returns, covariance_matrix):\n",
    "    return portfolioPerformance(weights, expected_returns, covariance_matrix)[1]"
   ]
  },
  {
   "cell_type": "code",
   "execution_count": 20,
   "id": "af161cde",
   "metadata": {},
   "outputs": [
    {
     "name": "stdout",
     "output_type": "stream",
     "text": [
      "0.1458544078340789 0.3278903639453347\n"
     ]
    }
   ],
   "source": [
    "mu_example = portfolioReturn(weights=w_example, expected_returns=expected_returns, covariance_matrix=covariance_matrix)\n",
    "sigma_example = portfolioVariance(weights=w_example, expected_returns=expected_returns, covariance_matrix=covariance_matrix)\n",
    "print(mu_example, sigma_example)"
   ]
  },
  {
   "cell_type": "code",
   "execution_count": 21,
   "id": "c9be7046",
   "metadata": {},
   "outputs": [],
   "source": [
    "def minimizeVariance(expected_returns, covariance_matrix, constraintSet=(0, 1)):\n",
    "    \"\"\"Minimize the portfolio variance by altering the \n",
    "     weights/allocation of assets in the portfolio\"\"\"\n",
    "    n = len(expected_returns)\n",
    "    args = (expected_returns, covariance_matrix)\n",
    "    constraints = ({'type': 'eq', 'fun': lambda x: np.sum(x) - 1})\n",
    "    bounds = tuple(constraintSet for asset in range(n))\n",
    "    result = sc.minimize(portfolioVariance, n * [1. / n], args=args,\n",
    "                         method='SLSQP', bounds=bounds, constraints=constraints)\n",
    "    return result"
   ]
  },
  {
   "cell_type": "code",
   "execution_count": 22,
   "id": "b79c8d55",
   "metadata": {},
   "outputs": [
    {
     "name": "stdout",
     "output_type": "stream",
     "text": [
      " message: Optimization terminated successfully\n",
      " success: True\n",
      "  status: 0\n",
      "     fun: 0.2864478909251803\n",
      "       x: [ 0.000e+00  4.382e-01  5.618e-01]\n",
      "     nit: 5\n",
      "     jac: [ 2.999e-01  2.865e-01  2.864e-01]\n",
      "    nfev: 20\n",
      "    njev: 5\n"
     ]
    }
   ],
   "source": [
    "w_minvar = minimizeVariance(expected_returns=expected_returns, covariance_matrix=covariance_matrix)\n",
    "print(w_minvar)"
   ]
  },
  {
   "cell_type": "code",
   "execution_count": 23,
   "id": "698629a9",
   "metadata": {},
   "outputs": [],
   "source": [
    "def maxSR(expected_returns, covariance_matrix, rf=0, constraintSet=(0, 1)):\n",
    "    \"Minimize the negative SR, by altering the weights of the portfolio\"\n",
    "    n = len(expected_returns)\n",
    "    args = (expected_returns, covariance_matrix, rf)\n",
    "    constraints = ({'type': 'eq', 'fun': lambda x: np.sum(x) - 1})\n",
    "    bound = constraintSet\n",
    "    bounds = tuple(bound for asset in range(n))\n",
    "    result = sc.minimize(negativeSR, n * [1. / n], args=args,\n",
    "                         method='SLSQP', bounds=bounds, constraints=constraints)\n",
    "    return result"
   ]
  },
  {
   "cell_type": "code",
   "execution_count": 24,
   "id": "2c3f7a1d",
   "metadata": {},
   "outputs": [
    {
     "name": "stdout",
     "output_type": "stream",
     "text": [
      " message: Optimization terminated successfully\n",
      " success: True\n",
      "  status: 0\n",
      "     fun: -0.5163420652162191\n",
      "       x: [ 9.586e-01  4.143e-02  0.000e+00]\n",
      "     nit: 7\n",
      "     jac: [-2.488e-05  5.361e-04  2.363e-02]\n",
      "    nfev: 29\n",
      "    njev: 7\n"
     ]
    }
   ],
   "source": [
    "w_sr = maxSR(expected_returns=expected_returns, covariance_matrix=covariance_matrix)\n",
    "print(w_sr)"
   ]
  },
  {
   "cell_type": "code",
   "execution_count": 26,
   "id": "1da15ed8",
   "metadata": {},
   "outputs": [],
   "source": [
    "def efficientOpt(expected_returns, covariance_matrix, returnTarget, constraintSet=(0, 1)):\n",
    "    \"\"\"For each returnTarget, we want to optimise the portfolio for min variance\"\"\"\n",
    "    n = len(expected_returns)\n",
    "    args = (expected_returns, covariance_matrix)\n",
    "\n",
    "    constraints = ({'type': 'eq', 'fun': lambda x: portfolioReturn(x, expected_returns, covariance_matrix) - returnTarget},\n",
    "                   {'type': 'eq', 'fun': lambda x: np.sum(x) - 1})\n",
    "    bound = constraintSet\n",
    "    bounds = tuple(bound for asset in range(n))\n",
    "    effiportfolio = sc.minimize(portfolioVariance, n * [1. / n], args=args, method='SLSQP', bounds=bounds,\n",
    "                         constraints=constraints)\n",
    "    return effiportfolio"
   ]
  },
  {
   "cell_type": "code",
   "execution_count": 27,
   "id": "71da125a",
   "metadata": {},
   "outputs": [],
   "source": [
    "def calculatedResults(expected_returns, covariance_matrix, rf=0, constraintSet=(0, 1)):\n",
    "    \"\"\"Read in mean, cov matrix, and other financial information\n",
    "        Output, Max SR , Min Volatility, efficient frontier \"\"\"\n",
    "    # Max Sharpe Ratio Portfolio\n",
    "    maxSR_Portfolio = maxSR(expected_returns, covariance_matrix)\n",
    "    maxSR_returns, maxSR_std = portfolioPerformance(maxSR_Portfolio['x'], expected_returns, covariance_matrix)\n",
    "    maxSR_allocation = pd.DataFrame(maxSR_Portfolio['x'], index=expected_returns.index, columns=['allocation'])\n",
    "    maxSR_allocation.allocation = [round(i * 100, 0) for i in maxSR_allocation.allocation]\n",
    "\n",
    "    # Min Volatility Portfolio\n",
    "    minVol_Portfolio = minimizeVariance(expected_returns, covariance_matrix)\n",
    "    minVol_returns, minVol_std = portfolioPerformance(minVol_Portfolio['x'], expected_returns, covariance_matrix)\n",
    "    minVol_allocation = pd.DataFrame(minVol_Portfolio['x'], index=expected_returns.index, columns=['allocation'])\n",
    "    minVol_allocation.allocation = [round(i * 100, 0) for i in minVol_allocation.allocation]\n",
    "\n",
    "    # Efficient Frontier\n",
    "    efficientList = []\n",
    "    targetReturns = np.linspace(minVol_returns, maxSR_returns*1.1, 20)\n",
    "    for target in targetReturns:\n",
    "        efficientList.append(efficientOpt(expected_returns, covariance_matrix, target)['fun'])\n",
    "\n",
    "    maxSR_returns, maxSR_std = round(maxSR_returns * 100, 2), round(maxSR_std * 100, 2)\n",
    "    minVol_returns, minVol_std = round(minVol_returns * 100, 2), round(minVol_std * 100, 2)      \n",
    "    return maxSR_returns, maxSR_std, maxSR_allocation, minVol_returns, minVol_std, minVol_allocation, efficientList, targetReturns\n"
   ]
  },
  {
   "cell_type": "code",
   "execution_count": 28,
   "id": "55a908c6",
   "metadata": {},
   "outputs": [
    {
     "name": "stdout",
     "output_type": "stream",
     "text": [
      "26.91 52.12       allocation\n",
      "AMD         96.0\n",
      "AMZN         4.0\n",
      "JPM          0.0\n",
      "7.81 28.64       allocation\n",
      "AMD          0.0\n",
      "AMZN        44.0\n",
      "JPM         56.0\n"
     ]
    }
   ],
   "source": [
    "maxSR_returns, maxSR_std, maxSR_allocation, minVol_returns, minVol_std, minVol_allocation,\\\n",
    "      efficientList, targetReturns = calculatedResults(expected_returns=expected_returns, covariance_matrix=covariance_matrix)\n",
    "print(maxSR_returns, maxSR_std, maxSR_allocation)\n",
    "print(minVol_returns, minVol_std, minVol_allocation)"
   ]
  },
  {
   "cell_type": "code",
   "execution_count": 29,
   "id": "e68dd1d4",
   "metadata": {},
   "outputs": [],
   "source": [
    "def simulate(stocks, expected_returns, covariance_matrix, n_sim, rf=0):\n",
    "    n = len(expected_returns)\n",
    "    simulated_ptf_return = []\n",
    "    simulated_ptf_std = []\n",
    "    simulated_sharpe_ratio = []\n",
    "    w = np.zeros((n_sim, n))\n",
    "    portfolio = pd.DataFrame()\n",
    "    for i in np.arange(n_sim):\n",
    "        weights = np.array(np.random.random(n))\n",
    "        weights = weights / np.sum(weights)\n",
    "        simulated_ptf_return.append(np.sum(weights * expected_returns) * 252)\n",
    "        simulated_ptf_std.append(np.sqrt(\n",
    "            np.dot(weights.T, np.dot(covariance_matrix, weights))) * np.sqrt(252))\n",
    "        simulated_sharpe_ratio.append((simulated_ptf_return[i] - np.array(rf)) / simulated_ptf_std[i])\n",
    "        w[i, :] = weights\n",
    "    for i in range(n ):\n",
    "        if i == 0:\n",
    "            portfolio = pd.DataFrame({stocks[i]: w[:, i]})\n",
    "        else:\n",
    "            portfolio[stocks[i]] = w[:, i]\n",
    "    portfolio['Return'] = simulated_ptf_return\n",
    "    portfolio['Volatility'] = simulated_ptf_std\n",
    "    portfolio['Sharpe Ratio'] = simulated_sharpe_ratio\n",
    "    return portfolio"
   ]
  },
  {
   "cell_type": "code",
   "execution_count": 30,
   "id": "4b3cbd80",
   "metadata": {},
   "outputs": [
    {
     "data": {
      "text/html": [
       "<div>\n",
       "<style scoped>\n",
       "    .dataframe tbody tr th:only-of-type {\n",
       "        vertical-align: middle;\n",
       "    }\n",
       "\n",
       "    .dataframe tbody tr th {\n",
       "        vertical-align: top;\n",
       "    }\n",
       "\n",
       "    .dataframe thead th {\n",
       "        text-align: right;\n",
       "    }\n",
       "</style>\n",
       "<table border=\"1\" class=\"dataframe\">\n",
       "  <thead>\n",
       "    <tr style=\"text-align: right;\">\n",
       "      <th></th>\n",
       "      <th>AMD</th>\n",
       "      <th>AMZN</th>\n",
       "      <th>JPM</th>\n",
       "      <th>Return</th>\n",
       "      <th>Volatility</th>\n",
       "      <th>Sharpe Ratio</th>\n",
       "    </tr>\n",
       "  </thead>\n",
       "  <tbody>\n",
       "    <tr>\n",
       "      <th>0</th>\n",
       "      <td>0.025169</td>\n",
       "      <td>0.491329</td>\n",
       "      <td>0.483503</td>\n",
       "      <td>0.087592</td>\n",
       "      <td>0.288684</td>\n",
       "      <td>0.303419</td>\n",
       "    </tr>\n",
       "    <tr>\n",
       "      <th>1</th>\n",
       "      <td>0.000269</td>\n",
       "      <td>0.354147</td>\n",
       "      <td>0.645584</td>\n",
       "      <td>0.072138</td>\n",
       "      <td>0.288768</td>\n",
       "      <td>0.249814</td>\n",
       "    </tr>\n",
       "    <tr>\n",
       "      <th>2</th>\n",
       "      <td>0.262226</td>\n",
       "      <td>0.371895</td>\n",
       "      <td>0.365880</td>\n",
       "      <td>0.133329</td>\n",
       "      <td>0.315319</td>\n",
       "      <td>0.422839</td>\n",
       "    </tr>\n",
       "    <tr>\n",
       "      <th>3</th>\n",
       "      <td>0.337633</td>\n",
       "      <td>0.271381</td>\n",
       "      <td>0.390986</td>\n",
       "      <td>0.143431</td>\n",
       "      <td>0.325994</td>\n",
       "      <td>0.439981</td>\n",
       "    </tr>\n",
       "    <tr>\n",
       "      <th>4</th>\n",
       "      <td>0.229681</td>\n",
       "      <td>0.422617</td>\n",
       "      <td>0.347702</td>\n",
       "      <td>0.129492</td>\n",
       "      <td>0.312653</td>\n",
       "      <td>0.414171</td>\n",
       "    </tr>\n",
       "    <tr>\n",
       "      <th>...</th>\n",
       "      <td>...</td>\n",
       "      <td>...</td>\n",
       "      <td>...</td>\n",
       "      <td>...</td>\n",
       "      <td>...</td>\n",
       "      <td>...</td>\n",
       "    </tr>\n",
       "    <tr>\n",
       "      <th>19995</th>\n",
       "      <td>0.378131</td>\n",
       "      <td>0.195327</td>\n",
       "      <td>0.426542</td>\n",
       "      <td>0.147286</td>\n",
       "      <td>0.332705</td>\n",
       "      <td>0.442693</td>\n",
       "    </tr>\n",
       "    <tr>\n",
       "      <th>19996</th>\n",
       "      <td>0.138739</td>\n",
       "      <td>0.258160</td>\n",
       "      <td>0.603101</td>\n",
       "      <td>0.096989</td>\n",
       "      <td>0.296113</td>\n",
       "      <td>0.327541</td>\n",
       "    </tr>\n",
       "    <tr>\n",
       "      <th>19997</th>\n",
       "      <td>0.368839</td>\n",
       "      <td>0.225518</td>\n",
       "      <td>0.405643</td>\n",
       "      <td>0.147308</td>\n",
       "      <td>0.331387</td>\n",
       "      <td>0.444519</td>\n",
       "    </tr>\n",
       "    <tr>\n",
       "      <th>19998</th>\n",
       "      <td>0.150299</td>\n",
       "      <td>0.386567</td>\n",
       "      <td>0.463135</td>\n",
       "      <td>0.108767</td>\n",
       "      <td>0.296499</td>\n",
       "      <td>0.366838</td>\n",
       "    </tr>\n",
       "    <tr>\n",
       "      <th>19999</th>\n",
       "      <td>0.205108</td>\n",
       "      <td>0.597226</td>\n",
       "      <td>0.197666</td>\n",
       "      <td>0.136290</td>\n",
       "      <td>0.330877</td>\n",
       "      <td>0.411904</td>\n",
       "    </tr>\n",
       "  </tbody>\n",
       "</table>\n",
       "<p>20000 rows × 6 columns</p>\n",
       "</div>"
      ],
      "text/plain": [
       "            AMD      AMZN       JPM    Return  Volatility  Sharpe Ratio\n",
       "0      0.025169  0.491329  0.483503  0.087592    0.288684      0.303419\n",
       "1      0.000269  0.354147  0.645584  0.072138    0.288768      0.249814\n",
       "2      0.262226  0.371895  0.365880  0.133329    0.315319      0.422839\n",
       "3      0.337633  0.271381  0.390986  0.143431    0.325994      0.439981\n",
       "4      0.229681  0.422617  0.347702  0.129492    0.312653      0.414171\n",
       "...         ...       ...       ...       ...         ...           ...\n",
       "19995  0.378131  0.195327  0.426542  0.147286    0.332705      0.442693\n",
       "19996  0.138739  0.258160  0.603101  0.096989    0.296113      0.327541\n",
       "19997  0.368839  0.225518  0.405643  0.147308    0.331387      0.444519\n",
       "19998  0.150299  0.386567  0.463135  0.108767    0.296499      0.366838\n",
       "19999  0.205108  0.597226  0.197666  0.136290    0.330877      0.411904\n",
       "\n",
       "[20000 rows x 6 columns]"
      ]
     },
     "execution_count": 30,
     "metadata": {},
     "output_type": "execute_result"
    }
   ],
   "source": [
    "simulated_portfolios = simulate(stocks=assets, expected_returns = expected_returns, covariance_matrix = covariance_matrix, n_sim=20000)\n",
    "simulated_portfolios"
   ]
  },
  {
   "cell_type": "code",
   "execution_count": 31,
   "id": "680fb46c",
   "metadata": {
    "scrolled": true
   },
   "outputs": [
    {
     "data": {
      "text/html": [
       "<div>\n",
       "<style scoped>\n",
       "    .dataframe tbody tr th:only-of-type {\n",
       "        vertical-align: middle;\n",
       "    }\n",
       "\n",
       "    .dataframe tbody tr th {\n",
       "        vertical-align: top;\n",
       "    }\n",
       "\n",
       "    .dataframe thead th {\n",
       "        text-align: right;\n",
       "    }\n",
       "</style>\n",
       "<table border=\"1\" class=\"dataframe\">\n",
       "  <thead>\n",
       "    <tr style=\"text-align: right;\">\n",
       "      <th></th>\n",
       "      <th>Max Sharpe Ratio Portfolio</th>\n",
       "    </tr>\n",
       "  </thead>\n",
       "  <tbody>\n",
       "    <tr>\n",
       "      <th>AMD</th>\n",
       "      <td>0.958298</td>\n",
       "    </tr>\n",
       "    <tr>\n",
       "      <th>AMZN</th>\n",
       "      <td>0.038083</td>\n",
       "    </tr>\n",
       "    <tr>\n",
       "      <th>JPM</th>\n",
       "      <td>0.003619</td>\n",
       "    </tr>\n",
       "    <tr>\n",
       "      <th>Return</th>\n",
       "      <td>0.268829</td>\n",
       "    </tr>\n",
       "    <tr>\n",
       "      <th>Volatility</th>\n",
       "      <td>0.520729</td>\n",
       "    </tr>\n",
       "    <tr>\n",
       "      <th>Sharpe Ratio</th>\n",
       "      <td>0.516255</td>\n",
       "    </tr>\n",
       "  </tbody>\n",
       "</table>\n",
       "</div>"
      ],
      "text/plain": [
       "              Max Sharpe Ratio Portfolio\n",
       "AMD                             0.958298\n",
       "AMZN                            0.038083\n",
       "JPM                             0.003619\n",
       "Return                          0.268829\n",
       "Volatility                      0.520729\n",
       "Sharpe Ratio                    0.516255"
      ]
     },
     "execution_count": 31,
     "metadata": {},
     "output_type": "execute_result"
    }
   ],
   "source": [
    "index = simulated_portfolios[\"Sharpe Ratio\"].idxmax()\n",
    "result = pd.DataFrame(simulated_portfolios.iloc[index])\n",
    "result.columns = ['Max Sharpe Ratio Portfolio']\n",
    "result"
   ]
  },
  {
   "cell_type": "code",
   "execution_count": 49,
   "id": "e5a5f4ab",
   "metadata": {},
   "outputs": [
    {
     "data": {
      "text/html": [
       "<div>\n",
       "<style scoped>\n",
       "    .dataframe tbody tr th:only-of-type {\n",
       "        vertical-align: middle;\n",
       "    }\n",
       "\n",
       "    .dataframe tbody tr th {\n",
       "        vertical-align: top;\n",
       "    }\n",
       "\n",
       "    .dataframe thead th {\n",
       "        text-align: right;\n",
       "    }\n",
       "</style>\n",
       "<table border=\"1\" class=\"dataframe\">\n",
       "  <thead>\n",
       "    <tr style=\"text-align: right;\">\n",
       "      <th></th>\n",
       "      <th>Max Return</th>\n",
       "    </tr>\n",
       "  </thead>\n",
       "  <tbody>\n",
       "    <tr>\n",
       "      <th>AMD</th>\n",
       "      <td>0.987035</td>\n",
       "    </tr>\n",
       "    <tr>\n",
       "      <th>AMZN</th>\n",
       "      <td>0.002846</td>\n",
       "    </tr>\n",
       "    <tr>\n",
       "      <th>JPM</th>\n",
       "      <td>0.010119</td>\n",
       "    </tr>\n",
       "    <tr>\n",
       "      <th>Return</th>\n",
       "      <td>0.272897</td>\n",
       "    </tr>\n",
       "    <tr>\n",
       "      <th>Volatility</th>\n",
       "      <td>0.528896</td>\n",
       "    </tr>\n",
       "    <tr>\n",
       "      <th>Sharpe Ratio</th>\n",
       "      <td>0.515974</td>\n",
       "    </tr>\n",
       "  </tbody>\n",
       "</table>\n",
       "</div>"
      ],
      "text/plain": [
       "              Max Return\n",
       "AMD             0.987035\n",
       "AMZN            0.002846\n",
       "JPM             0.010119\n",
       "Return          0.272897\n",
       "Volatility      0.528896\n",
       "Sharpe Ratio    0.515974"
      ]
     },
     "execution_count": 49,
     "metadata": {},
     "output_type": "execute_result"
    }
   ],
   "source": [
    "index5 = simulated_portfolios[\"Return\"].idxmax()\n",
    "result5 = pd.DataFrame(simulated_portfolios.iloc[index5])\n",
    "result5.columns = ['Max Return']\n",
    "result5"
   ]
  },
  {
   "cell_type": "code",
   "execution_count": 32,
   "id": "e75e14a2",
   "metadata": {},
   "outputs": [],
   "source": [
    "vol_maxSR = result.loc['Volatility', 'Max Sharpe Ratio Portfolio']\n",
    "ret_maxSR = result.loc['Return', 'Max Sharpe Ratio Portfolio']"
   ]
  },
  {
   "cell_type": "code",
   "execution_count": 33,
   "id": "8616898a",
   "metadata": {
    "scrolled": true
   },
   "outputs": [
    {
     "data": {
      "text/html": [
       "<div>\n",
       "<style scoped>\n",
       "    .dataframe tbody tr th:only-of-type {\n",
       "        vertical-align: middle;\n",
       "    }\n",
       "\n",
       "    .dataframe tbody tr th {\n",
       "        vertical-align: top;\n",
       "    }\n",
       "\n",
       "    .dataframe thead th {\n",
       "        text-align: right;\n",
       "    }\n",
       "</style>\n",
       "<table border=\"1\" class=\"dataframe\">\n",
       "  <thead>\n",
       "    <tr style=\"text-align: right;\">\n",
       "      <th></th>\n",
       "      <th>Min Volatility Portfolio</th>\n",
       "    </tr>\n",
       "  </thead>\n",
       "  <tbody>\n",
       "    <tr>\n",
       "      <th>AMD</th>\n",
       "      <td>0.000815</td>\n",
       "    </tr>\n",
       "    <tr>\n",
       "      <th>AMZN</th>\n",
       "      <td>0.442869</td>\n",
       "    </tr>\n",
       "    <tr>\n",
       "      <th>JPM</th>\n",
       "      <td>0.556316</td>\n",
       "    </tr>\n",
       "    <tr>\n",
       "      <th>Return</th>\n",
       "      <td>0.078574</td>\n",
       "    </tr>\n",
       "    <tr>\n",
       "      <th>Volatility</th>\n",
       "      <td>0.286468</td>\n",
       "    </tr>\n",
       "    <tr>\n",
       "      <th>Sharpe Ratio</th>\n",
       "      <td>0.274284</td>\n",
       "    </tr>\n",
       "  </tbody>\n",
       "</table>\n",
       "</div>"
      ],
      "text/plain": [
       "              Min Volatility Portfolio\n",
       "AMD                           0.000815\n",
       "AMZN                          0.442869\n",
       "JPM                           0.556316\n",
       "Return                        0.078574\n",
       "Volatility                    0.286468\n",
       "Sharpe Ratio                  0.274284"
      ]
     },
     "execution_count": 33,
     "metadata": {},
     "output_type": "execute_result"
    }
   ],
   "source": [
    "index2 = simulated_portfolios[\"Volatility\"].idxmin()\n",
    "result2 = pd.DataFrame(simulated_portfolios.iloc[index2])\n",
    "result2.columns = ['Min Volatility Portfolio']\n",
    "result2"
   ]
  },
  {
   "cell_type": "code",
   "execution_count": 48,
   "id": "116f9a8f",
   "metadata": {},
   "outputs": [
    {
     "data": {
      "text/html": [
       "<div>\n",
       "<style scoped>\n",
       "    .dataframe tbody tr th:only-of-type {\n",
       "        vertical-align: middle;\n",
       "    }\n",
       "\n",
       "    .dataframe tbody tr th {\n",
       "        vertical-align: top;\n",
       "    }\n",
       "\n",
       "    .dataframe thead th {\n",
       "        text-align: right;\n",
       "    }\n",
       "</style>\n",
       "<table border=\"1\" class=\"dataframe\">\n",
       "  <thead>\n",
       "    <tr style=\"text-align: right;\">\n",
       "      <th></th>\n",
       "      <th>Max Volatility</th>\n",
       "    </tr>\n",
       "  </thead>\n",
       "  <tbody>\n",
       "    <tr>\n",
       "      <th>AMD</th>\n",
       "      <td>0.987035</td>\n",
       "    </tr>\n",
       "    <tr>\n",
       "      <th>AMZN</th>\n",
       "      <td>0.002846</td>\n",
       "    </tr>\n",
       "    <tr>\n",
       "      <th>JPM</th>\n",
       "      <td>0.010119</td>\n",
       "    </tr>\n",
       "    <tr>\n",
       "      <th>Return</th>\n",
       "      <td>0.272897</td>\n",
       "    </tr>\n",
       "    <tr>\n",
       "      <th>Volatility</th>\n",
       "      <td>0.528896</td>\n",
       "    </tr>\n",
       "    <tr>\n",
       "      <th>Sharpe Ratio</th>\n",
       "      <td>0.515974</td>\n",
       "    </tr>\n",
       "  </tbody>\n",
       "</table>\n",
       "</div>"
      ],
      "text/plain": [
       "              Max Volatility\n",
       "AMD                 0.987035\n",
       "AMZN                0.002846\n",
       "JPM                 0.010119\n",
       "Return              0.272897\n",
       "Volatility          0.528896\n",
       "Sharpe Ratio        0.515974"
      ]
     },
     "execution_count": 48,
     "metadata": {},
     "output_type": "execute_result"
    }
   ],
   "source": [
    "index4 = simulated_portfolios[\"Volatility\"].idxmax()\n",
    "result4 = pd.DataFrame(simulated_portfolios.iloc[index4])\n",
    "result4.columns = ['Max Volatility']\n",
    "result4"
   ]
  },
  {
   "cell_type": "code",
   "execution_count": 34,
   "id": "a973e07d",
   "metadata": {},
   "outputs": [],
   "source": [
    "vol_minVol = result2.loc['Volatility', 'Min Volatility Portfolio']\n",
    "ret_minVol = result2.loc['Return', 'Min Volatility Portfolio']"
   ]
  },
  {
   "cell_type": "code",
   "execution_count": 35,
   "id": "d125349c",
   "metadata": {},
   "outputs": [],
   "source": [
    "average_returns = log_returns.mean()\n",
    "std_returns = log_returns.std()"
   ]
  },
  {
   "cell_type": "code",
   "execution_count": 61,
   "id": "e2b15d6d",
   "metadata": {},
   "outputs": [],
   "source": [
    "average_returns_data = {'AMD': 0.001094, 'AMZN': 0.000468, 'JPM': 0.000186}\n",
    "volatilities_data = {'AMD': 0.033641, 'AMZN': 0.023735, 'JPM': 0.021684}"
   ]
  },
  {
   "cell_type": "code",
   "execution_count": 62,
   "id": "0b047b16",
   "metadata": {},
   "outputs": [],
   "source": [
    "df_average_returns = pd.Series(average_returns_data, name='Average Return')\n",
    "df_volatilities = pd.Series(volatilities_data, name='Volatility')"
   ]
  },
  {
   "cell_type": "code",
   "execution_count": 63,
   "id": "6e965ce8",
   "metadata": {},
   "outputs": [
    {
     "name": "stdout",
     "output_type": "stream",
     "text": [
      "0.5163085188027627\n"
     ]
    }
   ],
   "source": [
    "rf = 0\n",
    "x2 = [0, float(maxSR_std)]\n",
    "y2 = [rf, float(maxSR_returns)]\n",
    "slope, intercept = np.polyfit(x2,y2,1)\n",
    "print(slope)"
   ]
  },
  {
   "cell_type": "code",
   "execution_count": 64,
   "id": "971f443d",
   "metadata": {},
   "outputs": [],
   "source": [
    "range = np.arange(0, 0.8, 0.001)\n",
    "rangey = slope * range + intercept"
   ]
  },
  {
   "cell_type": "code",
   "execution_count": 65,
   "id": "0c80eca0",
   "metadata": {},
   "outputs": [
    {
     "data": {
      "image/png": "[encoded data removed]",
      "text/plain": [
       "<Figure size 1500x600 with 2 Axes>"
      ]
     },
     "metadata": {},
     "output_type": "display_data"
    }
   ],
   "source": [
    "import matplotlib.pyplot as plt\n",
    "plt.figure(figsize = (15,6))\n",
    "plt.scatter(x = simulated_portfolios[\"Volatility\"], y = simulated_portfolios[\"Return\"], c = simulated_portfolios[\"Sharpe Ratio\"])\n",
    "plt.plot(range, rangey)\n",
    "plt.colorbar(label = 'Sharpe Ratio')\n",
    "plt.scatter(0, rf, c = \"black\")\n",
    "plt.xlabel(\"Expected Volatility\")\n",
    "plt.ylabel(\"Expected Return\")\n",
    "plt.scatter(df_volatilities, df_average_returns, c='blue', marker='o')\n",
    "plt.scatter(vol_maxSR, ret_maxSR, c = \"red\")\n",
    "plt.scatter(vol_minVol, ret_minVol, c = \"yellow\")\n",
    "plt.title(\"Efficient Frontier\");"
   ]
  },
  {
   "cell_type": "code",
   "execution_count": 45,
   "id": "9e56fa41",
   "metadata": {},
   "outputs": [
    {
     "name": "stdout",
     "output_type": "stream",
     "text": [
      "For the 3 assets, the average return is pretty low even though the stanfard deviation of these assets' return is close to 2 and 3%\n"
     ]
    }
   ],
   "source": [
    "texte = \"For the 3 assets, the average return is pretty low even though the stanfard deviation of these assets' return is close to 2 and 3%\"\n",
    "print (texte)"
   ]
  },
  {
   "cell_type": "code",
   "execution_count": 46,
   "id": "0fc49102",
   "metadata": {},
   "outputs": [
    {
     "name": "stdout",
     "output_type": "stream",
     "text": [
      "The 3 assets have a positive correlation, however the correlation between AMD and AMZN is more significant than the other correlations. So the 3 stocks will tend to move in the same way. This is why it is not risky to invest in the 3 at the same time because they could react in the same way to the market\n"
     ]
    }
   ],
   "source": [
    "texte2 = \"The 3 assets have a positive correlation, however the correlation between AMD and AMZN is more significant than the other correlations. So the 3 stocks will tend to move in the same way. This is why it is not risky to invest in the 3 at the same time because they could react in the same way to the market\"\n",
    "print (texte2)"
   ]
  },
  {
   "cell_type": "code",
   "execution_count": 51,
   "id": "38ce8ad2",
   "metadata": {},
   "outputs": [
    {
     "name": "stdout",
     "output_type": "stream",
     "text": [
      "Based on the calculations above, it's clear that to get a high return, the investor has to take risk. The allocation doesn't matter. The Max Sharpe Ratio Portfolio has a volatility close to the one of the Max Volatility Portfolio and the Min Volatility Portfolio has a high Volatility.\n"
     ]
    }
   ],
   "source": [
    "texte3 = \"Based on the calculations above, it's clear that to get a high return, the investor has to take risk. The allocation doesn't matter. The Max Sharpe Ratio Portfolio has a volatility close to the one of the Max Volatility Portfolio and the Min Volatility Portfolio has a high Volatility.\"\n",
    "print(texte3)"
   ]
  },
  {
   "cell_type": "code",
   "execution_count": 55,
   "id": "8cbb1ff4",
   "metadata": {},
   "outputs": [
    {
     "name": "stdout",
     "output_type": "stream",
     "text": [
      "Moreover, concerning the Min Volatility, the conclusion of the optimization and the simulation for the Min Volatility, the results match, and it's the same for the allocation of the Max Sharpe Ratio Portfolio.\n"
     ]
    }
   ],
   "source": [
    "texte4 = \"Moreover, concerning the Min Volatility, the conclusion of the optimization and the simulation for the Min Volatility, the results match, and it's the same for the allocation of the Max Sharpe Ratio Portfolio.\"\n",
    "print (texte4)"
   ]
  },
  {
   "cell_type": "code",
   "execution_count": null,
   "id": "20431e70",
   "metadata": {},
   "outputs": [],
   "source": []
  }
 ],
 "metadata": {
  "kernelspec": {
   "display_name": "Python 3 (ipykernel)",
   "language": "python",
   "name": "python3"
  },
  "language_info": {
   "codemirror_mode": {
    "name": "ipython",
    "version": 3
   },
   "file_extension": ".py",
   "mimetype": "text/x-python",
   "name": "python",
   "nbconvert_exporter": "python",
   "pygments_lexer": "ipython3",
   "version": "3.11.5"
  }
 },
 "nbformat": 4,
 "nbformat_minor": 5
}
